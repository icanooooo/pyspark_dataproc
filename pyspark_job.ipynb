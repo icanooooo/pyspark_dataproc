{
 "cells": [
  {
   "cell_type": "code",
   "execution_count": 2,
   "metadata": {},
   "outputs": [
    {
     "name": "stderr",
     "output_type": "stream",
     "text": [
      "24/11/22 10:19:09 WARN Utils: Your hostname, ubuntu-icanooo resolves to a loopback address: 127.0.1.1; using 192.168.100.178 instead (on interface wlp3s0)\n",
      "24/11/22 10:19:09 WARN Utils: Set SPARK_LOCAL_IP if you need to bind to another address\n",
      "Setting default log level to \"WARN\".\n",
      "To adjust logging level use sc.setLogLevel(newLevel). For SparkR, use setLogLevel(newLevel).\n",
      "24/11/22 10:19:10 WARN NativeCodeLoader: Unable to load native-hadoop library for your platform... using builtin-java classes where applicable\n"
     ]
    }
   ],
   "source": [
    "from pyspark.sql import SparkSession\n",
    "\n",
    "spark = SparkSession.builder.appName('amazon sales project').getOrCreate() #Cari tau ini apa/ngaipain"
   ]
  },
  {
   "cell_type": "code",
   "execution_count": 3,
   "metadata": {},
   "outputs": [
    {
     "name": "stderr",
     "output_type": "stream",
     "text": [
      "                                                                                \r"
     ]
    }
   ],
   "source": [
    "file_path = 'assets/amazon_sales.csv'\n",
    "\n",
    "df = spark.read.csv(file_path, header=True, inferSchema=True)"
   ]
  },
  {
   "cell_type": "code",
   "execution_count": 4,
   "metadata": {},
   "outputs": [
    {
     "name": "stdout",
     "output_type": "stream",
     "text": [
      "+-----+-------------------+--------+--------------------+----------+--------------+------------------+--------+-------------------+-------------+----+----------+--------------+---+--------+------+-----------+--------------+----------------+------------+--------------------+-----+------------+-----------+\n",
      "|index|           Order ID|    Date|              Status|Fulfilment|Sales Channel |ship-service-level|   Style|                SKU|     Category|Size|      ASIN|Courier Status|Qty|currency|Amount|  ship-city|    ship-state|ship-postal-code|ship-country|       promotion-ids|  B2B|fulfilled-by|Unnamed: 22|\n",
      "+-----+-------------------+--------+--------------------+----------+--------------+------------------+--------+-------------------+-------------+----+----------+--------------+---+--------+------+-----------+--------------+----------------+------------+--------------------+-----+------------+-----------+\n",
      "|    0|405-8078784-5731545|04-30-22|           Cancelled|  Merchant|     Amazon.in|          Standard|  SET389|     SET389-KR-NP-S|          Set|   S|B09KXVBD7Z|          NULL|  0|     INR|647.62|     MUMBAI|   MAHARASHTRA|        400081.0|          IN|                NULL|false|   Easy Ship|       NULL|\n",
      "|    1|171-9198151-1101146|04-30-22|Shipped - Deliver...|  Merchant|     Amazon.in|          Standard| JNE3781|    JNE3781-KR-XXXL|        kurta| 3XL|B09K3WFS32|       Shipped|  1|     INR| 406.0|  BENGALURU|     KARNATAKA|        560085.0|          IN|Amazon PLCC Free-...|false|   Easy Ship|       NULL|\n",
      "|    2|404-0687676-7273146|04-30-22|             Shipped|    Amazon|     Amazon.in|         Expedited| JNE3371|      JNE3371-KR-XL|        kurta|  XL|B07WV4JV4D|       Shipped|  1|     INR| 329.0|NAVI MUMBAI|   MAHARASHTRA|        410210.0|          IN|IN Core Free Ship...| true|        NULL|       NULL|\n",
      "|    3|403-9615377-8133951|04-30-22|           Cancelled|  Merchant|     Amazon.in|          Standard|   J0341|         J0341-DR-L|Western Dress|   L|B099NRCT7B|          NULL|  0|     INR|753.33| PUDUCHERRY|    PUDUCHERRY|        605008.0|          IN|                NULL|false|   Easy Ship|       NULL|\n",
      "|    4|407-1069790-7240320|04-30-22|             Shipped|    Amazon|     Amazon.in|         Expedited| JNE3671|    JNE3671-TU-XXXL|          Top| 3XL|B098714BZP|       Shipped|  1|     INR| 574.0|    CHENNAI|    TAMIL NADU|        600073.0|          IN|                NULL|false|        NULL|       NULL|\n",
      "|    5|404-1490984-4578765|04-30-22|             Shipped|    Amazon|     Amazon.in|         Expedited|  SET264|    SET264-KR-NP-XL|          Set|  XL|B08YN7XDSG|       Shipped|  1|     INR| 824.0|  GHAZIABAD| UTTAR PRADESH|        201102.0|          IN|IN Core Free Ship...|false|        NULL|       NULL|\n",
      "|    6|408-5748499-6859555|04-30-22|             Shipped|    Amazon|     Amazon.in|         Expedited|   J0095|        J0095-SET-L|          Set|   L|B08CMHNWBN|       Shipped|  1|     INR| 653.0| CHANDIGARH|    CHANDIGARH|        160036.0|          IN|IN Core Free Ship...|false|        NULL|       NULL|\n",
      "|    7|406-7807733-3785945|04-30-22|Shipped - Deliver...|  Merchant|     Amazon.in|          Standard| JNE3405|       JNE3405-KR-S|        kurta|   S|B081WX4G4Q|       Shipped|  1|     INR| 399.0|  HYDERABAD|     TELANGANA|        500032.0|          IN|Amazon PLCC Free-...|false|   Easy Ship|       NULL|\n",
      "|    8|407-5443024-5233168|04-30-22|           Cancelled|    Amazon|     Amazon.in|         Expedited|  SET200|SET200-KR-NP-A-XXXL|          Set| 3XL|B08L91ZZXN|     Cancelled|  0|    NULL|  NULL|  HYDERABAD|     TELANGANA|        500008.0|          IN|IN Core Free Ship...|false|        NULL|       NULL|\n",
      "|    9|402-4393761-0311520|04-30-22|             Shipped|    Amazon|     Amazon.in|         Expedited| JNE3461|     JNE3461-KR-XXL|        kurta| XXL|B08B3XF5MH|       Shipped|  1|     INR| 363.0|    Chennai|    TAMIL NADU|        600041.0|          IN|                NULL|false|        NULL|       NULL|\n",
      "|   10|407-5633625-6970741|04-30-22|             Shipped|    Amazon|     Amazon.in|         Expedited| JNE3160|     JNE3160-KR-G-S|        kurta|   S|B07K3YQLF1|       Shipped|  1|     INR| 685.0|    CHENNAI|    TAMIL NADU|        600073.0|          IN|                NULL|false|        NULL|       NULL|\n",
      "|   11|171-4638481-6326716|04-30-22|             Shipped|    Amazon|     Amazon.in|         Expedited| JNE3500|      JNE3500-KR-XS|        kurta|  XS|B098117DJ3|       Shipped|  1|     INR| 364.0|      NOIDA| UTTAR PRADESH|        201303.0|          IN|                NULL|false|        NULL|       NULL|\n",
      "|   12|405-5513694-8146768|04-30-22|Shipped - Deliver...|  Merchant|     Amazon.in|          Standard| JNE3405|      JNE3405-KR-XS|        kurta|  XS|B081XCMYXJ|       Shipped|  1|     INR| 399.0|  Amravati.|   MAHARASHTRA|        444606.0|          IN|Amazon PLCC Free-...|false|   Easy Ship|       NULL|\n",
      "|   13|408-7955685-3083534|04-30-22|             Shipped|    Amazon|     Amazon.in|         Expedited|  SET182|    SET182-KR-DH-XS|          Set|  XS|B085HS947T|       Shipped|  1|     INR| 657.0|     MUMBAI|   MAHARASHTRA|        400053.0|          IN|                NULL|false|        NULL|       NULL|\n",
      "|   14|408-1298370-1920302|04-30-22|Shipped - Deliver...|  Merchant|     Amazon.in|          Standard|   J0351|        J0351-SET-L|          Set|   L|B09CSSQY4F|       Shipped|  1|     INR| 771.0|     MUMBAI|   MAHARASHTRA|        400053.0|          IN|Amazon PLCC Free-...|false|   Easy Ship|       NULL|\n",
      "|   15|403-4965581-9520319|04-30-22|Shipped - Deliver...|  Merchant|     Amazon.in|          Standard|PJNE3368|    PJNE3368-KR-6XL|        kurta| 6XL|B09PY99SVJ|       Shipped|  1|     INR| 544.0|   GUNTAKAL|ANDHRA PRADESH|        515801.0|          IN|Amazon PLCC Free-...|false|   Easy Ship|       NULL|\n",
      "|   16|406-9379318-6555504|04-30-22|             Shipped|    Amazon|     Amazon.in|         Expedited| JNE3721|     JNE3721-KR-XXL|        kurta| XXL|B099FCT65D|       Shipped|  1|     INR| 329.0|     JAIPUR|     RAJASTHAN|        302020.0|          IN|IN Core Free Ship...|false|        NULL|       NULL|\n",
      "|   17|405-9013803-8009918|04-30-22|             Shipped|    Amazon|     Amazon.in|         Expedited| JNE3405|      JNE3405-KR-XL|        kurta|  XL|B081WT6GG7|       Shipped|  1|     INR| 399.0|  NEW DELHI|         DELHI|        110074.0|          IN|                NULL|false|        NULL|       NULL|\n",
      "|   18|402-4030358-5835511|04-30-22|Shipped - Deliver...|  Merchant|     Amazon.in|          Standard| JNE3697|     JNE3697-KR-XXL|        kurta| XXL|B098133PV5|       Shipped|  1|     INR| 458.0|    Gurgaon|       HARYANA|        122004.0|          IN|Amazon PLCC Free-...|false|   Easy Ship|       NULL|\n",
      "|   19|405-5957858-1051546|04-30-22|             Shipped|    Amazon|     Amazon.in|         Expedited|  SET254|    SET254-KR-NP-XS|          Set|  XS|B0983DDPL6|       Shipped|  1|     INR| 886.0|  BENGALURU|     KARNATAKA|        560017.0|          IN|                NULL|false|        NULL|       NULL|\n",
      "+-----+-------------------+--------+--------------------+----------+--------------+------------------+--------+-------------------+-------------+----+----------+--------------+---+--------+------+-----------+--------------+----------------+------------+--------------------+-----+------------+-----------+\n",
      "only showing top 20 rows\n",
      "\n"
     ]
    }
   ],
   "source": [
    "df.show()"
   ]
  },
  {
   "cell_type": "code",
   "execution_count": null,
   "metadata": {},
   "outputs": [],
   "source": [
    "from pyspark.sql.functions import to_date\n",
    "\n",
    "df = df.withColumn(\"Date\", to_date(\"Date\", \"MM-dd-yy\"))\n"
   ]
  },
  {
   "cell_type": "code",
   "execution_count": null,
   "metadata": {},
   "outputs": [],
   "source": [
    "# Creating cancceled table\n",
    "\n",
    "df_cancelled = df[df['Status'] == 'Cancelled']"
   ]
  },
  {
   "cell_type": "code",
   "execution_count": 10,
   "metadata": {},
   "outputs": [],
   "source": [
    "# Removing cancelled rows\n",
    "\n",
    "df = df[df['Status'] != 'Cancelled']"
   ]
  },
  {
   "cell_type": "code",
   "execution_count": 12,
   "metadata": {},
   "outputs": [
    {
     "name": "stderr",
     "output_type": "stream",
     "text": [
      "[Stage 6:==============>                                            (1 + 3) / 4]\r"
     ]
    },
    {
     "name": "stdout",
     "output_type": "stream",
     "text": [
      "+--------+\n",
      "|currency|\n",
      "+--------+\n",
      "|     INR|\n",
      "|    NULL|\n",
      "+--------+\n",
      "\n"
     ]
    },
    {
     "name": "stderr",
     "output_type": "stream",
     "text": [
      "                                                                                \r"
     ]
    }
   ],
   "source": [
    "df.select(\"currency\").distinct().show()"
   ]
  },
  {
   "cell_type": "code",
   "execution_count": 22,
   "metadata": {},
   "outputs": [],
   "source": [
    "from currency_converter import CurrencyConverter\n",
    "from pyspark.sql.functions import udf, lit\n",
    "from pyspark.sql.types import DoubleType\n",
    "\n",
    "def changeCurrency(amount, inCurrency, outCurrency):\n",
    "    try:\n",
    "        c = CurrencyConverter()\n",
    "\n",
    "        amount_in_usd = c.convert(amount, inCurrency, outCurrency)\n",
    "        return amount_in_usd\n",
    "    except:\n",
    "        return None\n",
    "\n",
    "changeCurrency_udf = udf(changeCurrency, DoubleType())\n",
    "\n",
    "df = df.withColumn(\"Amount_in_usd\", changeCurrency_udf(df[\"Amount\"], df[\"currency\"], lit(\"USD\")))"
   ]
  },
  {
   "cell_type": "code",
   "execution_count": 28,
   "metadata": {},
   "outputs": [],
   "source": [
    "df = df.drop(\"Unnamed: 22\")"
   ]
  },
  {
   "cell_type": "code",
   "execution_count": 29,
   "metadata": {},
   "outputs": [
    {
     "name": "stderr",
     "output_type": "stream",
     "text": [
      "[Stage 15:>                                                         (0 + 1) / 1]\r"
     ]
    },
    {
     "name": "stdout",
     "output_type": "stream",
     "text": [
      "+-----+-------------------+----------+--------------------+----------+--------------+------------------+--------+---------------+--------+----+----------+--------------+---+--------+------+---------------+--------------+----------------+------------+--------------------+-----+------------+------------------+\n",
      "|index|           Order ID|      Date|              Status|Fulfilment|Sales Channel |ship-service-level|   Style|            SKU|Category|Size|      ASIN|Courier Status|Qty|currency|Amount|      ship-city|    ship-state|ship-postal-code|ship-country|       promotion-ids|  B2B|fulfilled-by|     Amount_in_usd|\n",
      "+-----+-------------------+----------+--------------------+----------+--------------+------------------+--------+---------------+--------+----+----------+--------------+---+--------+------+---------------+--------------+----------------+------------+--------------------+-----+------------+------------------+\n",
      "|    1|171-9198151-1101146|2022-04-30|Shipped - Deliver...|  Merchant|     Amazon.in|          Standard| JNE3781|JNE3781-KR-XXXL|   kurta| 3XL|B09K3WFS32|       Shipped|  1|     INR| 406.0|      BENGALURU|     KARNATAKA|        560085.0|          IN|Amazon PLCC Free-...|false|   Easy Ship| 4.826915712469929|\n",
      "|    2|404-0687676-7273146|2022-04-30|             Shipped|    Amazon|     Amazon.in|         Expedited| JNE3371|  JNE3371-KR-XL|   kurta|  XL|B07WV4JV4D|       Shipped|  1|     INR| 329.0|    NAVI MUMBAI|   MAHARASHTRA|        410210.0|          IN|IN Core Free Ship...| true|        NULL| 3.911466180794597|\n",
      "|    4|407-1069790-7240320|2022-04-30|             Shipped|    Amazon|     Amazon.in|         Expedited| JNE3671|JNE3671-TU-XXXL|     Top| 3XL|B098714BZP|       Shipped|  1|     INR| 574.0|        CHENNAI|    TAMIL NADU|        600073.0|          IN|                NULL|false|        NULL| 6.824260145216106|\n",
      "|    5|404-1490984-4578765|2022-04-30|             Shipped|    Amazon|     Amazon.in|         Expedited|  SET264|SET264-KR-NP-XL|     Set|  XL|B08YN7XDSG|       Shipped|  1|     INR| 824.0|      GHAZIABAD| UTTAR PRADESH|        201102.0|          IN|IN Core Free Ship...|false|        NULL| 9.796498884421727|\n",
      "|    6|408-5748499-6859555|2022-04-30|             Shipped|    Amazon|     Amazon.in|         Expedited|   J0095|    J0095-SET-L|     Set|   L|B08CMHNWBN|       Shipped|  1|     INR| 653.0|     CHANDIGARH|    CHANDIGARH|        160036.0|          IN|IN Core Free Ship...|false|        NULL| 7.763487586805081|\n",
      "|    7|406-7807733-3785945|2022-04-30|Shipped - Deliver...|  Merchant|     Amazon.in|          Standard| JNE3405|   JNE3405-KR-S|   kurta|   S|B081WX4G4Q|       Shipped|  1|     INR| 399.0|      HYDERABAD|     TELANGANA|        500032.0|          IN|Amazon PLCC Free-...|false|   Easy Ship| 4.743693027772171|\n",
      "|    9|402-4393761-0311520|2022-04-30|             Shipped|    Amazon|     Amazon.in|         Expedited| JNE3461| JNE3461-KR-XXL|   kurta| XXL|B08B3XF5MH|       Shipped|  1|     INR| 363.0|        Chennai|    TAMIL NADU|        600041.0|          IN|                NULL|false|        NULL| 4.315690649326561|\n",
      "|   10|407-5633625-6970741|2022-04-30|             Shipped|    Amazon|     Amazon.in|         Expedited| JNE3160| JNE3160-KR-G-S|   kurta|   S|B07K3YQLF1|       Shipped|  1|     INR| 685.0|        CHENNAI|    TAMIL NADU|        600073.0|          IN|                NULL|false|        NULL| 8.143934145423401|\n",
      "|   11|171-4638481-6326716|2022-04-30|             Shipped|    Amazon|     Amazon.in|         Expedited| JNE3500|  JNE3500-KR-XS|   kurta|  XS|B098117DJ3|       Shipped|  1|     INR| 364.0|          NOIDA| UTTAR PRADESH|        201303.0|          IN|                NULL|false|        NULL| 4.327579604283384|\n",
      "|   12|405-5513694-8146768|2022-04-30|Shipped - Deliver...|  Merchant|     Amazon.in|          Standard| JNE3405|  JNE3405-KR-XS|   kurta|  XS|B081XCMYXJ|       Shipped|  1|     INR| 399.0|      Amravati.|   MAHARASHTRA|        444606.0|          IN|Amazon PLCC Free-...|false|   Easy Ship| 4.743693027772171|\n",
      "|   13|408-7955685-3083534|2022-04-30|             Shipped|    Amazon|     Amazon.in|         Expedited|  SET182|SET182-KR-DH-XS|     Set|  XS|B085HS947T|       Shipped|  1|     INR| 657.0|         MUMBAI|   MAHARASHTRA|        400053.0|          IN|                NULL|false|        NULL| 7.811043406632371|\n",
      "|   14|408-1298370-1920302|2022-04-30|Shipped - Deliver...|  Merchant|     Amazon.in|          Standard|   J0351|    J0351-SET-L|     Set|   L|B09CSSQY4F|       Shipped|  1|     INR| 771.0|         MUMBAI|   MAHARASHTRA|        400053.0|          IN|Amazon PLCC Free-...|false|   Easy Ship| 9.166384271710136|\n",
      "|   15|403-4965581-9520319|2022-04-30|Shipped - Deliver...|  Merchant|     Amazon.in|          Standard|PJNE3368|PJNE3368-KR-6XL|   kurta| 6XL|B09PY99SVJ|       Shipped|  1|     INR| 544.0|       GUNTAKAL|ANDHRA PRADESH|        515801.0|          IN|Amazon PLCC Free-...|false|   Easy Ship| 6.467591496511432|\n",
      "|   16|406-9379318-6555504|2022-04-30|             Shipped|    Amazon|     Amazon.in|         Expedited| JNE3721| JNE3721-KR-XXL|   kurta| XXL|B099FCT65D|       Shipped|  1|     INR| 329.0|         JAIPUR|     RAJASTHAN|        302020.0|          IN|IN Core Free Ship...|false|        NULL| 3.911466180794597|\n",
      "|   17|405-9013803-8009918|2022-04-30|             Shipped|    Amazon|     Amazon.in|         Expedited| JNE3405|  JNE3405-KR-XL|   kurta|  XL|B081WT6GG7|       Shipped|  1|     INR| 399.0|      NEW DELHI|         DELHI|        110074.0|          IN|                NULL|false|        NULL| 4.743693027772171|\n",
      "|   18|402-4030358-5835511|2022-04-30|Shipped - Deliver...|  Merchant|     Amazon.in|          Standard| JNE3697| JNE3697-KR-XXL|   kurta| XXL|B098133PV5|       Shipped|  1|     INR| 458.0|        Gurgaon|       HARYANA|        122004.0|          IN|Amazon PLCC Free-...|false|   Easy Ship| 5.445141370224698|\n",
      "|   19|405-5957858-1051546|2022-04-30|             Shipped|    Amazon|     Amazon.in|         Expedited|  SET254|SET254-KR-NP-XS|     Set|  XS|B0983DDPL6|       Shipped|  1|     INR| 886.0|      BENGALURU|     KARNATAKA|        560017.0|          IN|                NULL|false|        NULL| 10.53361409174472|\n",
      "|   20|405-0607769-0716360|2022-04-30|             Shipped|    Amazon|     Amazon.in|         Expedited| JNE3795|JNE3795-KR-XXXL|   kurta| 3XL|B09HMXJVFS|       Shipped|  1|     INR| 517.0|TIRUCHIRAPPALLI|    TAMIL NADU|        620018.0|          IN|IN Core Free Ship...|false|        NULL|6.1465897126772235|\n",
      "|   21|404-8494550-5860325|2022-04-30|             Shipped|    Amazon|     Amazon.in|         Expedited|  SET345| SET345-KR-NP-M|     Set|   M|B09KXV4BN8|       Shipped|  1|     INR| 666.0|      BENGALURU|     KARNATAKA|        560040.0|          IN|IN Core Free Ship...|false|        NULL| 7.918044001243774|\n",
      "|   22|171-1305077-2813934|2022-04-30|             Shipped|    Amazon|     Amazon.in|         Expedited| JNE3373|   JNE3373-KR-L|   kurta|   L|B082W7GVH7|       Shipped|  1|     INR| 376.0|      HYDERABAD|     TELANGANA|        500072.0|          IN|                NULL|false|        NULL| 4.470247063765253|\n",
      "+-----+-------------------+----------+--------------------+----------+--------------+------------------+--------+---------------+--------+----+----------+--------------+---+--------+------+---------------+--------------+----------------+------------+--------------------+-----+------------+------------------+\n",
      "only showing top 20 rows\n",
      "\n"
     ]
    },
    {
     "name": "stderr",
     "output_type": "stream",
     "text": [
      "                                                                                \r"
     ]
    }
   ],
   "source": [
    "df.show()"
   ]
  },
  {
   "cell_type": "code",
   "execution_count": 30,
   "metadata": {},
   "outputs": [
    {
     "name": "stdout",
     "output_type": "stream",
     "text": [
      "root\n",
      " |-- index: integer (nullable = true)\n",
      " |-- Order ID: string (nullable = true)\n",
      " |-- Date: date (nullable = true)\n",
      " |-- Status: string (nullable = true)\n",
      " |-- Fulfilment: string (nullable = true)\n",
      " |-- Sales Channel : string (nullable = true)\n",
      " |-- ship-service-level: string (nullable = true)\n",
      " |-- Style: string (nullable = true)\n",
      " |-- SKU: string (nullable = true)\n",
      " |-- Category: string (nullable = true)\n",
      " |-- Size: string (nullable = true)\n",
      " |-- ASIN: string (nullable = true)\n",
      " |-- Courier Status: string (nullable = true)\n",
      " |-- Qty: integer (nullable = true)\n",
      " |-- currency: string (nullable = true)\n",
      " |-- Amount: double (nullable = true)\n",
      " |-- ship-city: string (nullable = true)\n",
      " |-- ship-state: string (nullable = true)\n",
      " |-- ship-postal-code: double (nullable = true)\n",
      " |-- ship-country: string (nullable = true)\n",
      " |-- promotion-ids: string (nullable = true)\n",
      " |-- B2B: boolean (nullable = true)\n",
      " |-- fulfilled-by: string (nullable = true)\n",
      " |-- Amount_in_usd: double (nullable = true)\n",
      "\n"
     ]
    }
   ],
   "source": [
    "df.printSchema()"
   ]
  }
 ],
 "metadata": {
  "kernelspec": {
   "display_name": "Python 3",
   "language": "python",
   "name": "python3"
  },
  "language_info": {
   "codemirror_mode": {
    "name": "ipython",
    "version": 3
   },
   "file_extension": ".py",
   "mimetype": "text/x-python",
   "name": "python",
   "nbconvert_exporter": "python",
   "pygments_lexer": "ipython3",
   "version": "3.10.12"
  }
 },
 "nbformat": 4,
 "nbformat_minor": 2
}
